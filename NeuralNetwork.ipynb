{
  "nbformat": 4,
  "nbformat_minor": 0,
  "metadata": {
    "colab": {
      "provenance": [],
      "authorship_tag": "ABX9TyNmqHFRvq43R2M5nKYvwLJt",
      "include_colab_link": true
    },
    "kernelspec": {
      "name": "python3",
      "display_name": "Python 3"
    },
    "language_info": {
      "name": "python"
    }
  },
  "cells": [
    {
      "cell_type": "markdown",
      "metadata": {
        "id": "view-in-github",
        "colab_type": "text"
      },
      "source": [
        "<a href=\"https://colab.research.google.com/github/GhaziBenHenia/Neural_Network_from_scratch./blob/main/NeuralNetwork.ipynb\" target=\"_parent\"><img src=\"https://colab.research.google.com/assets/colab-badge.svg\" alt=\"Open In Colab\"/></a>"
      ]
    },
    {
      "cell_type": "markdown",
      "source": [
        "**Building Neural Networks from scratch**"
      ],
      "metadata": {
        "id": "NqQp7ypDoznO"
      }
    },
    {
      "cell_type": "markdown",
      "source": [
        "# 1) Introduction"
      ],
      "metadata": {
        "id": "Lzynw-RpzTbx"
      }
    },
    {
      "cell_type": "code",
      "execution_count": null,
      "metadata": {
        "id": "NCoHeA5koKxk"
      },
      "outputs": [],
      "source": [
        "import numpy as np\n",
        "import matplotlib.pyplot as plt\n",
        "import pandas as pd"
      ]
    },
    {
      "cell_type": "code",
      "execution_count": null,
      "metadata": {
        "id": "_G5m-kzBmfX9",
        "colab": {
          "base_uri": "https://localhost:8080/"
        },
        "outputId": "1137070f-7a16-41dc-f4db-07abacc3e6c2"
      },
      "outputs": [
        {
          "output_type": "stream",
          "name": "stdout",
          "text": [
            "Mounted at /content/drive\n"
          ]
        }
      ],
      "source": [
        "from google.colab import drive\n",
        "drive.mount('/content/drive')"
      ]
    },
    {
      "cell_type": "code",
      "execution_count": null,
      "metadata": {
        "id": "tQBus-PLmhar",
        "colab": {
          "base_uri": "https://localhost:8080/"
        },
        "outputId": "87f26710-88ea-4801-f9fd-d5ba65a3349c"
      },
      "outputs": [
        {
          "output_type": "stream",
          "name": "stdout",
          "text": [
            "/content/drive/MyDrive/dataflower\n"
          ]
        }
      ],
      "source": [
        "%cd /content/drive/MyDrive/dataflower"
      ]
    },
    {
      "cell_type": "code",
      "source": [
        "NNTraining_data = pd.read_csv('/content/drive/MyDrive/NN_data/NNTraining_data.csv')\n",
        "NNTest_data = pd.read_csv('/content/drive/MyDrive/NN_data/NNTest_data.csv')"
      ],
      "metadata": {
        "id": "iBZCu9zDZoOV"
      },
      "execution_count": null,
      "outputs": []
    },
    {
      "cell_type": "code",
      "source": [
        "NNTraining_data.head()"
      ],
      "metadata": {
        "colab": {
          "base_uri": "https://localhost:8080/"
        },
        "id": "CEu2HXjnZ5oj",
        "outputId": "49e37506-176e-4180-ea57-8e9ba3f54e87"
      },
      "execution_count": null,
      "outputs": [
        {
          "output_type": "execute_result",
          "data": {
            "text/plain": [
              "          0         1         2         3\n",
              "0  3.682795  4.540686  0.119606  0.880394\n",
              "1 -4.935752 -3.951901  0.852986  0.147014\n",
              "2  4.938425 -1.880418  0.880796  0.119204\n",
              "3  3.824091 -3.374826  0.880797  0.119203\n",
              "4  4.849526  4.542527  0.123314  0.876686"
            ],
            "text/html": [
              "\n",
              "  <div id=\"df-f05fc496-d940-4307-b941-eaa115f5b336\" class=\"colab-df-container\">\n",
              "    <div>\n",
              "<style scoped>\n",
              "    .dataframe tbody tr th:only-of-type {\n",
              "        vertical-align: middle;\n",
              "    }\n",
              "\n",
              "    .dataframe tbody tr th {\n",
              "        vertical-align: top;\n",
              "    }\n",
              "\n",
              "    .dataframe thead th {\n",
              "        text-align: right;\n",
              "    }\n",
              "</style>\n",
              "<table border=\"1\" class=\"dataframe\">\n",
              "  <thead>\n",
              "    <tr style=\"text-align: right;\">\n",
              "      <th></th>\n",
              "      <th>0</th>\n",
              "      <th>1</th>\n",
              "      <th>2</th>\n",
              "      <th>3</th>\n",
              "    </tr>\n",
              "  </thead>\n",
              "  <tbody>\n",
              "    <tr>\n",
              "      <th>0</th>\n",
              "      <td>3.682795</td>\n",
              "      <td>4.540686</td>\n",
              "      <td>0.119606</td>\n",
              "      <td>0.880394</td>\n",
              "    </tr>\n",
              "    <tr>\n",
              "      <th>1</th>\n",
              "      <td>-4.935752</td>\n",
              "      <td>-3.951901</td>\n",
              "      <td>0.852986</td>\n",
              "      <td>0.147014</td>\n",
              "    </tr>\n",
              "    <tr>\n",
              "      <th>2</th>\n",
              "      <td>4.938425</td>\n",
              "      <td>-1.880418</td>\n",
              "      <td>0.880796</td>\n",
              "      <td>0.119204</td>\n",
              "    </tr>\n",
              "    <tr>\n",
              "      <th>3</th>\n",
              "      <td>3.824091</td>\n",
              "      <td>-3.374826</td>\n",
              "      <td>0.880797</td>\n",
              "      <td>0.119203</td>\n",
              "    </tr>\n",
              "    <tr>\n",
              "      <th>4</th>\n",
              "      <td>4.849526</td>\n",
              "      <td>4.542527</td>\n",
              "      <td>0.123314</td>\n",
              "      <td>0.876686</td>\n",
              "    </tr>\n",
              "  </tbody>\n",
              "</table>\n",
              "</div>\n",
              "    <div class=\"colab-df-buttons\">\n",
              "\n",
              "  <div class=\"colab-df-container\">\n",
              "    <button class=\"colab-df-convert\" onclick=\"convertToInteractive('df-f05fc496-d940-4307-b941-eaa115f5b336')\"\n",
              "            title=\"Convert this dataframe to an interactive table.\"\n",
              "            style=\"display:none;\">\n",
              "\n",
              "  <svg xmlns=\"http://www.w3.org/2000/svg\" height=\"24px\" viewBox=\"0 -960 960 960\">\n",
              "    <path d=\"M120-120v-720h720v720H120Zm60-500h600v-160H180v160Zm220 220h160v-160H400v160Zm0 220h160v-160H400v160ZM180-400h160v-160H180v160Zm440 0h160v-160H620v160ZM180-180h160v-160H180v160Zm440 0h160v-160H620v160Z\"/>\n",
              "  </svg>\n",
              "    </button>\n",
              "\n",
              "  <style>\n",
              "    .colab-df-container {\n",
              "      display:flex;\n",
              "      gap: 12px;\n",
              "    }\n",
              "\n",
              "    .colab-df-convert {\n",
              "      background-color: #E8F0FE;\n",
              "      border: none;\n",
              "      border-radius: 50%;\n",
              "      cursor: pointer;\n",
              "      display: none;\n",
              "      fill: #1967D2;\n",
              "      height: 32px;\n",
              "      padding: 0 0 0 0;\n",
              "      width: 32px;\n",
              "    }\n",
              "\n",
              "    .colab-df-convert:hover {\n",
              "      background-color: #E2EBFA;\n",
              "      box-shadow: 0px 1px 2px rgba(60, 64, 67, 0.3), 0px 1px 3px 1px rgba(60, 64, 67, 0.15);\n",
              "      fill: #174EA6;\n",
              "    }\n",
              "\n",
              "    .colab-df-buttons div {\n",
              "      margin-bottom: 4px;\n",
              "    }\n",
              "\n",
              "    [theme=dark] .colab-df-convert {\n",
              "      background-color: #3B4455;\n",
              "      fill: #D2E3FC;\n",
              "    }\n",
              "\n",
              "    [theme=dark] .colab-df-convert:hover {\n",
              "      background-color: #434B5C;\n",
              "      box-shadow: 0px 1px 3px 1px rgba(0, 0, 0, 0.15);\n",
              "      filter: drop-shadow(0px 1px 2px rgba(0, 0, 0, 0.3));\n",
              "      fill: #FFFFFF;\n",
              "    }\n",
              "  </style>\n",
              "\n",
              "    <script>\n",
              "      const buttonEl =\n",
              "        document.querySelector('#df-f05fc496-d940-4307-b941-eaa115f5b336 button.colab-df-convert');\n",
              "      buttonEl.style.display =\n",
              "        google.colab.kernel.accessAllowed ? 'block' : 'none';\n",
              "\n",
              "      async function convertToInteractive(key) {\n",
              "        const element = document.querySelector('#df-f05fc496-d940-4307-b941-eaa115f5b336');\n",
              "        const dataTable =\n",
              "          await google.colab.kernel.invokeFunction('convertToInteractive',\n",
              "                                                    [key], {});\n",
              "        if (!dataTable) return;\n",
              "\n",
              "        const docLinkHtml = 'Like what you see? Visit the ' +\n",
              "          '<a target=\"_blank\" href=https://colab.research.google.com/notebooks/data_table.ipynb>data table notebook</a>'\n",
              "          + ' to learn more about interactive tables.';\n",
              "        element.innerHTML = '';\n",
              "        dataTable['output_type'] = 'display_data';\n",
              "        await google.colab.output.renderOutput(dataTable, element);\n",
              "        const docLink = document.createElement('div');\n",
              "        docLink.innerHTML = docLinkHtml;\n",
              "        element.appendChild(docLink);\n",
              "      }\n",
              "    </script>\n",
              "  </div>\n",
              "\n",
              "\n",
              "<div id=\"df-1aedbef4-66cd-439d-8fda-5d53e0c7bdf8\">\n",
              "  <button class=\"colab-df-quickchart\" onclick=\"quickchart('df-1aedbef4-66cd-439d-8fda-5d53e0c7bdf8')\"\n",
              "            title=\"Suggest charts\"\n",
              "            style=\"display:none;\">\n",
              "\n",
              "<svg xmlns=\"http://www.w3.org/2000/svg\" height=\"24px\"viewBox=\"0 0 24 24\"\n",
              "     width=\"24px\">\n",
              "    <g>\n",
              "        <path d=\"M19 3H5c-1.1 0-2 .9-2 2v14c0 1.1.9 2 2 2h14c1.1 0 2-.9 2-2V5c0-1.1-.9-2-2-2zM9 17H7v-7h2v7zm4 0h-2V7h2v10zm4 0h-2v-4h2v4z\"/>\n",
              "    </g>\n",
              "</svg>\n",
              "  </button>\n",
              "\n",
              "<style>\n",
              "  .colab-df-quickchart {\n",
              "      --bg-color: #E8F0FE;\n",
              "      --fill-color: #1967D2;\n",
              "      --hover-bg-color: #E2EBFA;\n",
              "      --hover-fill-color: #174EA6;\n",
              "      --disabled-fill-color: #AAA;\n",
              "      --disabled-bg-color: #DDD;\n",
              "  }\n",
              "\n",
              "  [theme=dark] .colab-df-quickchart {\n",
              "      --bg-color: #3B4455;\n",
              "      --fill-color: #D2E3FC;\n",
              "      --hover-bg-color: #434B5C;\n",
              "      --hover-fill-color: #FFFFFF;\n",
              "      --disabled-bg-color: #3B4455;\n",
              "      --disabled-fill-color: #666;\n",
              "  }\n",
              "\n",
              "  .colab-df-quickchart {\n",
              "    background-color: var(--bg-color);\n",
              "    border: none;\n",
              "    border-radius: 50%;\n",
              "    cursor: pointer;\n",
              "    display: none;\n",
              "    fill: var(--fill-color);\n",
              "    height: 32px;\n",
              "    padding: 0;\n",
              "    width: 32px;\n",
              "  }\n",
              "\n",
              "  .colab-df-quickchart:hover {\n",
              "    background-color: var(--hover-bg-color);\n",
              "    box-shadow: 0 1px 2px rgba(60, 64, 67, 0.3), 0 1px 3px 1px rgba(60, 64, 67, 0.15);\n",
              "    fill: var(--button-hover-fill-color);\n",
              "  }\n",
              "\n",
              "  .colab-df-quickchart-complete:disabled,\n",
              "  .colab-df-quickchart-complete:disabled:hover {\n",
              "    background-color: var(--disabled-bg-color);\n",
              "    fill: var(--disabled-fill-color);\n",
              "    box-shadow: none;\n",
              "  }\n",
              "\n",
              "  .colab-df-spinner {\n",
              "    border: 2px solid var(--fill-color);\n",
              "    border-color: transparent;\n",
              "    border-bottom-color: var(--fill-color);\n",
              "    animation:\n",
              "      spin 1s steps(1) infinite;\n",
              "  }\n",
              "\n",
              "  @keyframes spin {\n",
              "    0% {\n",
              "      border-color: transparent;\n",
              "      border-bottom-color: var(--fill-color);\n",
              "      border-left-color: var(--fill-color);\n",
              "    }\n",
              "    20% {\n",
              "      border-color: transparent;\n",
              "      border-left-color: var(--fill-color);\n",
              "      border-top-color: var(--fill-color);\n",
              "    }\n",
              "    30% {\n",
              "      border-color: transparent;\n",
              "      border-left-color: var(--fill-color);\n",
              "      border-top-color: var(--fill-color);\n",
              "      border-right-color: var(--fill-color);\n",
              "    }\n",
              "    40% {\n",
              "      border-color: transparent;\n",
              "      border-right-color: var(--fill-color);\n",
              "      border-top-color: var(--fill-color);\n",
              "    }\n",
              "    60% {\n",
              "      border-color: transparent;\n",
              "      border-right-color: var(--fill-color);\n",
              "    }\n",
              "    80% {\n",
              "      border-color: transparent;\n",
              "      border-right-color: var(--fill-color);\n",
              "      border-bottom-color: var(--fill-color);\n",
              "    }\n",
              "    90% {\n",
              "      border-color: transparent;\n",
              "      border-bottom-color: var(--fill-color);\n",
              "    }\n",
              "  }\n",
              "</style>\n",
              "\n",
              "  <script>\n",
              "    async function quickchart(key) {\n",
              "      const quickchartButtonEl =\n",
              "        document.querySelector('#' + key + ' button');\n",
              "      quickchartButtonEl.disabled = true;  // To prevent multiple clicks.\n",
              "      quickchartButtonEl.classList.add('colab-df-spinner');\n",
              "      try {\n",
              "        const charts = await google.colab.kernel.invokeFunction(\n",
              "            'suggestCharts', [key], {});\n",
              "      } catch (error) {\n",
              "        console.error('Error during call to suggestCharts:', error);\n",
              "      }\n",
              "      quickchartButtonEl.classList.remove('colab-df-spinner');\n",
              "      quickchartButtonEl.classList.add('colab-df-quickchart-complete');\n",
              "    }\n",
              "    (() => {\n",
              "      let quickchartButtonEl =\n",
              "        document.querySelector('#df-1aedbef4-66cd-439d-8fda-5d53e0c7bdf8 button');\n",
              "      quickchartButtonEl.style.display =\n",
              "        google.colab.kernel.accessAllowed ? 'block' : 'none';\n",
              "    })();\n",
              "  </script>\n",
              "</div>\n",
              "    </div>\n",
              "  </div>\n"
            ]
          },
          "metadata": {},
          "execution_count": 5
        }
      ]
    },
    {
      "cell_type": "code",
      "source": [
        "NNTest_data.head()"
      ],
      "metadata": {
        "colab": {
          "base_uri": "https://localhost:8080/"
        },
        "id": "ItgZr5ts1G6K",
        "outputId": "c345a923-c4cc-4802-ab5f-acfe3fe4c9db"
      },
      "execution_count": null,
      "outputs": [
        {
          "output_type": "execute_result",
          "data": {
            "text/plain": [
              "          0         1         2         3\n",
              "0  1.287235  3.094796  0.119462  0.880538\n",
              "1 -1.900905 -2.726798  0.878145  0.121855\n",
              "2  1.850491 -3.554629  0.880797  0.119203\n",
              "3  1.475565 -3.215275  0.880796  0.119204\n",
              "4  0.317844  2.789317  0.119299  0.880701"
            ],
            "text/html": [
              "\n",
              "  <div id=\"df-333b64b1-4a4c-4c51-9e61-72ce7424920d\" class=\"colab-df-container\">\n",
              "    <div>\n",
              "<style scoped>\n",
              "    .dataframe tbody tr th:only-of-type {\n",
              "        vertical-align: middle;\n",
              "    }\n",
              "\n",
              "    .dataframe tbody tr th {\n",
              "        vertical-align: top;\n",
              "    }\n",
              "\n",
              "    .dataframe thead th {\n",
              "        text-align: right;\n",
              "    }\n",
              "</style>\n",
              "<table border=\"1\" class=\"dataframe\">\n",
              "  <thead>\n",
              "    <tr style=\"text-align: right;\">\n",
              "      <th></th>\n",
              "      <th>0</th>\n",
              "      <th>1</th>\n",
              "      <th>2</th>\n",
              "      <th>3</th>\n",
              "    </tr>\n",
              "  </thead>\n",
              "  <tbody>\n",
              "    <tr>\n",
              "      <th>0</th>\n",
              "      <td>1.287235</td>\n",
              "      <td>3.094796</td>\n",
              "      <td>0.119462</td>\n",
              "      <td>0.880538</td>\n",
              "    </tr>\n",
              "    <tr>\n",
              "      <th>1</th>\n",
              "      <td>-1.900905</td>\n",
              "      <td>-2.726798</td>\n",
              "      <td>0.878145</td>\n",
              "      <td>0.121855</td>\n",
              "    </tr>\n",
              "    <tr>\n",
              "      <th>2</th>\n",
              "      <td>1.850491</td>\n",
              "      <td>-3.554629</td>\n",
              "      <td>0.880797</td>\n",
              "      <td>0.119203</td>\n",
              "    </tr>\n",
              "    <tr>\n",
              "      <th>3</th>\n",
              "      <td>1.475565</td>\n",
              "      <td>-3.215275</td>\n",
              "      <td>0.880796</td>\n",
              "      <td>0.119204</td>\n",
              "    </tr>\n",
              "    <tr>\n",
              "      <th>4</th>\n",
              "      <td>0.317844</td>\n",
              "      <td>2.789317</td>\n",
              "      <td>0.119299</td>\n",
              "      <td>0.880701</td>\n",
              "    </tr>\n",
              "  </tbody>\n",
              "</table>\n",
              "</div>\n",
              "    <div class=\"colab-df-buttons\">\n",
              "\n",
              "  <div class=\"colab-df-container\">\n",
              "    <button class=\"colab-df-convert\" onclick=\"convertToInteractive('df-333b64b1-4a4c-4c51-9e61-72ce7424920d')\"\n",
              "            title=\"Convert this dataframe to an interactive table.\"\n",
              "            style=\"display:none;\">\n",
              "\n",
              "  <svg xmlns=\"http://www.w3.org/2000/svg\" height=\"24px\" viewBox=\"0 -960 960 960\">\n",
              "    <path d=\"M120-120v-720h720v720H120Zm60-500h600v-160H180v160Zm220 220h160v-160H400v160Zm0 220h160v-160H400v160ZM180-400h160v-160H180v160Zm440 0h160v-160H620v160ZM180-180h160v-160H180v160Zm440 0h160v-160H620v160Z\"/>\n",
              "  </svg>\n",
              "    </button>\n",
              "\n",
              "  <style>\n",
              "    .colab-df-container {\n",
              "      display:flex;\n",
              "      gap: 12px;\n",
              "    }\n",
              "\n",
              "    .colab-df-convert {\n",
              "      background-color: #E8F0FE;\n",
              "      border: none;\n",
              "      border-radius: 50%;\n",
              "      cursor: pointer;\n",
              "      display: none;\n",
              "      fill: #1967D2;\n",
              "      height: 32px;\n",
              "      padding: 0 0 0 0;\n",
              "      width: 32px;\n",
              "    }\n",
              "\n",
              "    .colab-df-convert:hover {\n",
              "      background-color: #E2EBFA;\n",
              "      box-shadow: 0px 1px 2px rgba(60, 64, 67, 0.3), 0px 1px 3px 1px rgba(60, 64, 67, 0.15);\n",
              "      fill: #174EA6;\n",
              "    }\n",
              "\n",
              "    .colab-df-buttons div {\n",
              "      margin-bottom: 4px;\n",
              "    }\n",
              "\n",
              "    [theme=dark] .colab-df-convert {\n",
              "      background-color: #3B4455;\n",
              "      fill: #D2E3FC;\n",
              "    }\n",
              "\n",
              "    [theme=dark] .colab-df-convert:hover {\n",
              "      background-color: #434B5C;\n",
              "      box-shadow: 0px 1px 3px 1px rgba(0, 0, 0, 0.15);\n",
              "      filter: drop-shadow(0px 1px 2px rgba(0, 0, 0, 0.3));\n",
              "      fill: #FFFFFF;\n",
              "    }\n",
              "  </style>\n",
              "\n",
              "    <script>\n",
              "      const buttonEl =\n",
              "        document.querySelector('#df-333b64b1-4a4c-4c51-9e61-72ce7424920d button.colab-df-convert');\n",
              "      buttonEl.style.display =\n",
              "        google.colab.kernel.accessAllowed ? 'block' : 'none';\n",
              "\n",
              "      async function convertToInteractive(key) {\n",
              "        const element = document.querySelector('#df-333b64b1-4a4c-4c51-9e61-72ce7424920d');\n",
              "        const dataTable =\n",
              "          await google.colab.kernel.invokeFunction('convertToInteractive',\n",
              "                                                    [key], {});\n",
              "        if (!dataTable) return;\n",
              "\n",
              "        const docLinkHtml = 'Like what you see? Visit the ' +\n",
              "          '<a target=\"_blank\" href=https://colab.research.google.com/notebooks/data_table.ipynb>data table notebook</a>'\n",
              "          + ' to learn more about interactive tables.';\n",
              "        element.innerHTML = '';\n",
              "        dataTable['output_type'] = 'display_data';\n",
              "        await google.colab.output.renderOutput(dataTable, element);\n",
              "        const docLink = document.createElement('div');\n",
              "        docLink.innerHTML = docLinkHtml;\n",
              "        element.appendChild(docLink);\n",
              "      }\n",
              "    </script>\n",
              "  </div>\n",
              "\n",
              "\n",
              "<div id=\"df-b55cfc7f-7598-4fda-a1ae-bbf047c43b89\">\n",
              "  <button class=\"colab-df-quickchart\" onclick=\"quickchart('df-b55cfc7f-7598-4fda-a1ae-bbf047c43b89')\"\n",
              "            title=\"Suggest charts\"\n",
              "            style=\"display:none;\">\n",
              "\n",
              "<svg xmlns=\"http://www.w3.org/2000/svg\" height=\"24px\"viewBox=\"0 0 24 24\"\n",
              "     width=\"24px\">\n",
              "    <g>\n",
              "        <path d=\"M19 3H5c-1.1 0-2 .9-2 2v14c0 1.1.9 2 2 2h14c1.1 0 2-.9 2-2V5c0-1.1-.9-2-2-2zM9 17H7v-7h2v7zm4 0h-2V7h2v10zm4 0h-2v-4h2v4z\"/>\n",
              "    </g>\n",
              "</svg>\n",
              "  </button>\n",
              "\n",
              "<style>\n",
              "  .colab-df-quickchart {\n",
              "      --bg-color: #E8F0FE;\n",
              "      --fill-color: #1967D2;\n",
              "      --hover-bg-color: #E2EBFA;\n",
              "      --hover-fill-color: #174EA6;\n",
              "      --disabled-fill-color: #AAA;\n",
              "      --disabled-bg-color: #DDD;\n",
              "  }\n",
              "\n",
              "  [theme=dark] .colab-df-quickchart {\n",
              "      --bg-color: #3B4455;\n",
              "      --fill-color: #D2E3FC;\n",
              "      --hover-bg-color: #434B5C;\n",
              "      --hover-fill-color: #FFFFFF;\n",
              "      --disabled-bg-color: #3B4455;\n",
              "      --disabled-fill-color: #666;\n",
              "  }\n",
              "\n",
              "  .colab-df-quickchart {\n",
              "    background-color: var(--bg-color);\n",
              "    border: none;\n",
              "    border-radius: 50%;\n",
              "    cursor: pointer;\n",
              "    display: none;\n",
              "    fill: var(--fill-color);\n",
              "    height: 32px;\n",
              "    padding: 0;\n",
              "    width: 32px;\n",
              "  }\n",
              "\n",
              "  .colab-df-quickchart:hover {\n",
              "    background-color: var(--hover-bg-color);\n",
              "    box-shadow: 0 1px 2px rgba(60, 64, 67, 0.3), 0 1px 3px 1px rgba(60, 64, 67, 0.15);\n",
              "    fill: var(--button-hover-fill-color);\n",
              "  }\n",
              "\n",
              "  .colab-df-quickchart-complete:disabled,\n",
              "  .colab-df-quickchart-complete:disabled:hover {\n",
              "    background-color: var(--disabled-bg-color);\n",
              "    fill: var(--disabled-fill-color);\n",
              "    box-shadow: none;\n",
              "  }\n",
              "\n",
              "  .colab-df-spinner {\n",
              "    border: 2px solid var(--fill-color);\n",
              "    border-color: transparent;\n",
              "    border-bottom-color: var(--fill-color);\n",
              "    animation:\n",
              "      spin 1s steps(1) infinite;\n",
              "  }\n",
              "\n",
              "  @keyframes spin {\n",
              "    0% {\n",
              "      border-color: transparent;\n",
              "      border-bottom-color: var(--fill-color);\n",
              "      border-left-color: var(--fill-color);\n",
              "    }\n",
              "    20% {\n",
              "      border-color: transparent;\n",
              "      border-left-color: var(--fill-color);\n",
              "      border-top-color: var(--fill-color);\n",
              "    }\n",
              "    30% {\n",
              "      border-color: transparent;\n",
              "      border-left-color: var(--fill-color);\n",
              "      border-top-color: var(--fill-color);\n",
              "      border-right-color: var(--fill-color);\n",
              "    }\n",
              "    40% {\n",
              "      border-color: transparent;\n",
              "      border-right-color: var(--fill-color);\n",
              "      border-top-color: var(--fill-color);\n",
              "    }\n",
              "    60% {\n",
              "      border-color: transparent;\n",
              "      border-right-color: var(--fill-color);\n",
              "    }\n",
              "    80% {\n",
              "      border-color: transparent;\n",
              "      border-right-color: var(--fill-color);\n",
              "      border-bottom-color: var(--fill-color);\n",
              "    }\n",
              "    90% {\n",
              "      border-color: transparent;\n",
              "      border-bottom-color: var(--fill-color);\n",
              "    }\n",
              "  }\n",
              "</style>\n",
              "\n",
              "  <script>\n",
              "    async function quickchart(key) {\n",
              "      const quickchartButtonEl =\n",
              "        document.querySelector('#' + key + ' button');\n",
              "      quickchartButtonEl.disabled = true;  // To prevent multiple clicks.\n",
              "      quickchartButtonEl.classList.add('colab-df-spinner');\n",
              "      try {\n",
              "        const charts = await google.colab.kernel.invokeFunction(\n",
              "            'suggestCharts', [key], {});\n",
              "      } catch (error) {\n",
              "        console.error('Error during call to suggestCharts:', error);\n",
              "      }\n",
              "      quickchartButtonEl.classList.remove('colab-df-spinner');\n",
              "      quickchartButtonEl.classList.add('colab-df-quickchart-complete');\n",
              "    }\n",
              "    (() => {\n",
              "      let quickchartButtonEl =\n",
              "        document.querySelector('#df-b55cfc7f-7598-4fda-a1ae-bbf047c43b89 button');\n",
              "      quickchartButtonEl.style.display =\n",
              "        google.colab.kernel.accessAllowed ? 'block' : 'none';\n",
              "    })();\n",
              "  </script>\n",
              "</div>\n",
              "    </div>\n",
              "  </div>\n"
            ]
          },
          "metadata": {},
          "execution_count": 6
        }
      ]
    },
    {
      "cell_type": "markdown",
      "source": [
        "# 2) Programming the network"
      ],
      "metadata": {
        "id": "4FhKil3b1XEu"
      }
    },
    {
      "cell_type": "markdown",
      "source": [
        "2.1 Forward pass function"
      ],
      "metadata": {
        "id": "jP-oFGdD6R7S"
      }
    },
    {
      "cell_type": "code",
      "source": [
        "# Sample 1\n",
        "x1 = np.array([[2], [1]])\n",
        "t1 = np.array([[1], [0]])\n",
        "# Sample 2\n",
        "x2 = np.array([[-1], [3]])\n",
        "t2 = np.array([[0], [1]])\n",
        "# Weights\n",
        "W = np.array([[2], [-3], [-3], [4], [1], [-1], [0.25], [2]])\n"
      ],
      "metadata": {
        "id": "ZQJnGaeQ1aAC"
      },
      "execution_count": null,
      "outputs": []
    },
    {
      "cell_type": "code",
      "source": [
        "# Sigmoid function\n",
        "def sigmoid(x):\n",
        "    return 1 / (1 + np.exp(-x))"
      ],
      "metadata": {
        "id": "Vy-V1ShD7Zqc"
      },
      "execution_count": null,
      "outputs": []
    },
    {
      "cell_type": "code",
      "source": [
        "def forward_pass(x, t, w):\n",
        "\n",
        "    h1 = w[0][0]*x[0][0]+w[2][0]*x[1][0]\n",
        "    h2 = w[1][0]*x[0][0]+w[3][0]*x[1][0]\n",
        "\n",
        "\n",
        "    h = np.array([[h1], [h2]])\n",
        "    h = sigmoid(h)\n",
        "\n",
        "\n",
        "    y1 = w[4][0]*h[0][0]+w[6][0]*h[1][0]\n",
        "    y2 = w[5][0]*h[0][0]+w[7][0]*h[1][0]\n",
        "\n",
        "\n",
        "    y = np.array([[y1], [y2]])\n",
        "    y = sigmoid(y)\n",
        "\n",
        "\n",
        "    # Squared error loss\n",
        "    loss = np.sum((y - t) ** 2)\n",
        "    return loss"
      ],
      "metadata": {
        "id": "jluux27d6fRB"
      },
      "execution_count": null,
      "outputs": []
    },
    {
      "cell_type": "code",
      "source": [
        "# Perform forward pass\n",
        "loss1 = forward_pass(x1, t1, W)\n",
        "loss2 = forward_pass(x2, t2, W)\n",
        "# Print results\n",
        "print(\"Loss for Sample 1: L =\", round(loss1,3))\n",
        "print(\"Loss for Sample 2: L =\", round(loss2,3))"
      ],
      "metadata": {
        "colab": {
          "base_uri": "https://localhost:8080/"
        },
        "id": "Ij7xdYUA95tE",
        "outputId": "154f91e4-778f-4125-e6e2-f3c52d993037"
      },
      "execution_count": null,
      "outputs": [
        {
          "output_type": "stream",
          "name": "stdout",
          "text": [
            "Loss for Sample 1: L = 0.245\n",
            "Loss for Sample 2: L = 0.33\n"
          ]
        }
      ]
    },
    {
      "cell_type": "markdown",
      "source": [
        "2.2 Implementing the backpropagation of the network"
      ],
      "metadata": {
        "id": "O09INajtOA3e"
      }
    },
    {
      "cell_type": "code",
      "source": [
        "def sigmoid_derivative(x):\n",
        "    return x * (1 - x)"
      ],
      "metadata": {
        "id": "jW-cbL71PbL0"
      },
      "execution_count": null,
      "outputs": []
    },
    {
      "cell_type": "code",
      "source": [
        "def forward_backward_pass(x, t, w):\n",
        "    # Forward pass\n",
        "    h1 = w[0][0]*x[0][0] + w[2][0]*x[1][0]\n",
        "    h2 = w[1][0]*x[0][0] + w[3][0]*x[1][0]\n",
        "\n",
        "    h = np.array([[h1], [h2]])\n",
        "    h = sigmoid(h)\n",
        "\n",
        "    y1 = w[4][0]*h[0][0] + w[6][0]*h[1][0]\n",
        "    y2 = w[5][0]*h[0][0] + w[7][0]*h[1][0]\n",
        "\n",
        "    y = np.array([[y1], [y2]])\n",
        "    y = sigmoid(y)\n",
        "\n",
        "    # Squared error loss\n",
        "    loss = np.sum((y - t) ** 2)\n",
        "\n",
        "    # Backward pass\n",
        "    delta_y = 2 * (y - t) * sigmoid_derivative(y)\n",
        "\n",
        "    grad_w = np.zeros_like(w)\n",
        "\n",
        "    grad_w[4][0] = delta_y[0][0] * h[0][0]\n",
        "    grad_w[5][0] = delta_y[1][0] * h[0][0]\n",
        "    grad_w[6][0] = delta_y[0][0] * h[1][0]\n",
        "    grad_w[7][0] = delta_y[1][0] * h[1][0]\n",
        "\n",
        "    delta_h = np.zeros_like(h)\n",
        "    delta_h[0][0] = delta_y[0][0] * w[4][0] + delta_y[1][0] * w[5][0]\n",
        "    delta_h[1][0] = delta_y[0][0] * w[6][0] + delta_y[1][0] * w[7][0]\n",
        "    delta_h *= sigmoid_derivative(h)\n",
        "\n",
        "    grad_w[0][0] = delta_h[0][0] * x[0][0]\n",
        "    grad_w[1][0] = delta_h[1][0] * x[0][0]\n",
        "    grad_w[2][0] = delta_h[0][0] * x[1][0]\n",
        "    grad_w[3][0] = delta_h[1][0] * x[1][0]\n",
        "\n",
        "    return loss, grad_w\n"
      ],
      "metadata": {
        "id": "HQGc9_kDOAWq"
      },
      "execution_count": null,
      "outputs": []
    },
    {
      "cell_type": "code",
      "source": [
        "W = np.array([[2], [-3], [-3], [4], [1], [-1], [0.25], [2]])\n",
        "\n",
        "# Perform forward and backward pass\n",
        "final_loss1, updated_weights1 = forward_backward_pass(x1, t1, W)\n",
        "final_loss2, updated_weights2 = forward_backward_pass(x2, t2, W)\n",
        "# Results\n",
        "print(\"Final Loss:\", round(final_loss1,3))\n",
        "print(\"Updated Weights:\\n\",  [[round(val, 2) for val in row] for row in updated_weights1.T][0])\n",
        "\n",
        "\n",
        "print(\"Final Loss:\", round(final_loss2,3))\n",
        "print(\"Updated Weights:\\n\", [[round(val, 3) for val in row] for row in updated_weights2.T][0])"
      ],
      "metadata": {
        "colab": {
          "base_uri": "https://localhost:8080/"
        },
        "id": "mIGC0RiDPpCx",
        "outputId": "63a180f2-fceb-41bd-cec0-0d3f8d73f6be"
      },
      "execution_count": null,
      "outputs": [
        {
          "output_type": "stream",
          "name": "stdout",
          "text": [
            "Final Loss: 0.245\n",
            "Updated Weights:\n",
            " [-0.12, 0.07, -0.06, 0.03, -0.1, 0.13, -0.02, 0.02]\n",
            "Final Loss: 0.33\n",
            "Updated Weights:\n",
            " [-0.0, -0.0, 0.0, 0.0, 0.0, -0.0, 0.277, -0.025]\n"
          ]
        }
      ]
    },
    {
      "cell_type": "markdown",
      "source": [
        "# 3) Training and testing the network"
      ],
      "metadata": {
        "id": "PmLTCG3erZ-m"
      }
    },
    {
      "cell_type": "markdown",
      "source": [
        "3.1 Training and testing on three samples"
      ],
      "metadata": {
        "id": "b5ruR07rrdUI"
      }
    },
    {
      "cell_type": "code",
      "source": [
        "# Initializing weights\n",
        "W = np.array([[2], [-3], [-3], [4], [1], [-1], [0.25], [2]])\n",
        "\n",
        "\n",
        "# Hyperparameters\n",
        "learning_rate = 1.5\n",
        "num_iterations = 100\n",
        "\n",
        "losses = []\n",
        "\n",
        "for iteration in range(num_iterations):\n",
        "    total_loss = 0\n",
        "    total_grad_w = np.zeros_like(W)\n",
        "\n",
        "    # Iterate over individual samples\n",
        "    for x_sample, t_sample in zip([x1, x2], [t1, t2]):\n",
        "        # Forward and backward pass for the sample\n",
        "        loss, grad_w = forward_backward_pass(x_sample, t_sample, W)\n",
        "\n",
        "        total_loss += loss\n",
        "        total_grad_w += grad_w\n",
        "\n",
        "    # Updating the weights using the accumulated gradients\n",
        "    W -= learning_rate * (total_grad_w / 2)\n",
        "\n",
        "    # Calculating average loss for the iteration\n",
        "    avg_loss = total_loss / 2\n",
        "    losses.append(avg_loss)\n",
        "\n",
        "# Plotting the loss trend\n",
        "plt.plot(losses)\n",
        "plt.xlabel('Iterations')\n",
        "plt.ylabel('Loss')\n",
        "plt.title('Loss Trend Over Iterations')\n",
        "plt.show()\n"
      ],
      "metadata": {
        "id": "PZjLPlaZrgL5",
        "colab": {
          "base_uri": "https://localhost:8080/",
          "height": 472
        },
        "outputId": "5dd36efc-e056-482a-a46d-4ee96eb3ac29"
      },
      "execution_count": null,
      "outputs": [
        {
          "output_type": "display_data",
          "data": {
            "text/plain": [
              "<Figure size 640x480 with 1 Axes>"
            ],
            "image/png": "[encoded data removed]"
          },
          "metadata": {}
        }
      ]
    },
    {
      "cell_type": "code",
      "source": [
        "# New Sample 3\n",
        "x3 = np.array([[1], [4]])\n",
        "t3 = np.array([[1], [0]])\n",
        "\n",
        "loss3, grad_w3 = forward_backward_pass(x3, t3, W)\n",
        "\n",
        "print(\"Loss for Sample 3: L =\", loss3)"
      ],
      "metadata": {
        "colab": {
          "base_uri": "https://localhost:8080/"
        },
        "id": "AdHsxhaiUzn1",
        "outputId": "ec55dfbc-7dd5-40f2-8949-85fc6fc977b7"
      },
      "execution_count": null,
      "outputs": [
        {
          "output_type": "stream",
          "name": "stdout",
          "text": [
            "Loss for Sample 3: L = 1.7596489314534582\n"
          ]
        }
      ]
    },
    {
      "cell_type": "markdown",
      "source": [
        "3.2 Training and testing on a large dataset"
      ],
      "metadata": {
        "id": "jpReuZcuUJZb"
      }
    },
    {
      "cell_type": "code",
      "source": [
        "X1 = NNTraining_data.iloc[: ,0]\n",
        "X2 = NNTraining_data.iloc[: ,1]\n",
        "T1 = NNTraining_data.iloc[: ,2]\n",
        "T2 = NNTraining_data.iloc[: ,3]"
      ],
      "metadata": {
        "id": "xq_Lt-N4UH2p"
      },
      "execution_count": null,
      "outputs": []
    },
    {
      "cell_type": "code",
      "source": [
        "def Modified_forward_backward_pass(x_batch, t_batch, W):\n",
        "    total_loss = 0\n",
        "    total_grad_w = np.zeros_like(W)\n",
        "\n",
        "    for i in range(x_batch.shape[1]):\n",
        "        x = np.array([[x_batch[0, i]], [x_batch[1, i]]])\n",
        "        t = np.array([[t_batch[0, i]], [t_batch[1, i]]])\n",
        "\n",
        "        # Forward pass\n",
        "        h1 = W[0][0]*x[0][0] + W[2][0]*x[1][0]\n",
        "        h2 = W[1][0]*x[0][0] + W[3][0]*x[1][0]\n",
        "        h = np.array([[h1], [h2]])\n",
        "        h = sigmoid(h)\n",
        "\n",
        "        y1 = W[4][0]*h[0][0] + W[6][0]*h[1][0]\n",
        "        y2 = W[5][0]*h[0][0] + W[7][0]*h[1][0]\n",
        "        y = np.array([[y1], [y2]])\n",
        "        y = sigmoid(y)\n",
        "\n",
        "        # Squared error loss\n",
        "        loss = np.sum((y - t) ** 2)\n",
        "        total_loss += loss\n",
        "\n",
        "        # Backward pass\n",
        "        delta_y = 2 * (y - t) * sigmoid_derivative(y)\n",
        "\n",
        "        grad_w = np.zeros_like(W)\n",
        "\n",
        "        grad_w[4][0] = delta_y[0][0] * h[0][0]\n",
        "        grad_w[5][0] = delta_y[1][0] * h[0][0]\n",
        "        grad_w[6][0] = delta_y[0][0] * h[1][0]\n",
        "        grad_w[7][0] = delta_y[1][0] * h[1][0]\n",
        "\n",
        "        delta_h = np.zeros_like(h)\n",
        "        delta_h[0][0] = delta_y[0][0] * W[4][0] + delta_y[1][0] * W[5][0]\n",
        "        delta_h[1][0] = delta_y[0][0] * W[6][0] + delta_y[1][0] * W[7][0]\n",
        "        delta_h *= sigmoid_derivative(h)\n",
        "\n",
        "        grad_w[0][0] = delta_h[0][0] * x[0][0]\n",
        "        grad_w[1][0] = delta_h[1][0] * x[0][0]\n",
        "        grad_w[2][0] = delta_h[0][0] * x[1][0]\n",
        "        grad_w[3][0] = delta_h[1][0] * x[1][0]\n",
        "\n",
        "        # Accumulate gradients for the batch\n",
        "        total_grad_w += grad_w\n",
        "\n",
        "    # Calculate average loss for the batch\n",
        "    avg_loss = total_loss / x_batch.shape[1]\n",
        "    return avg_loss, total_grad_w\n"
      ],
      "metadata": {
        "id": "qCasu5WeyjGD"
      },
      "execution_count": null,
      "outputs": []
    },
    {
      "cell_type": "code",
      "source": [
        "# Initializing weights\n",
        "W = np.array([[2], [-3], [-3], [4], [1], [-1], [0.25], [2]])\n",
        "\n",
        "# Hyperparameters\n",
        "learning_rate = 0.01\n",
        "batch_size = 90\n",
        "num_epochs = 10\n",
        "\n",
        "# Storing losses for plotting at the end\n",
        "epoch_losses = []\n",
        "\n",
        "# Converting x1, x2, t1, t2 to numpy arrays\n",
        "X1, X2, T1, T2 = np.array(X1), np.array(X2), np.array(T1), np.array(T2)\n",
        "\n",
        "# Iterate over epochs\n",
        "for epoch in range(num_epochs):\n",
        "    epoch_loss = 0\n",
        "\n",
        "    # Iterating over batches\n",
        "    for i in range(0, len(X1), batch_size):\n",
        "        # Extract batches\n",
        "        x1_batch, x2_batch = X1[i:i+batch_size], X2[i:i+batch_size]\n",
        "        t1_batch, t2_batch = T1[i:i+batch_size], T2[i:i+batch_size]\n",
        "\n",
        "        # Reshaping batches to make them 2D\n",
        "        x1_batch, x2_batch = x1_batch.reshape(-1, 1), x2_batch.reshape(-1, 1)\n",
        "        t1_batch, t2_batch = t1_batch.reshape(-1, 1), t2_batch.reshape(-1, 1)\n",
        "\n",
        "        x_batch = np.concatenate((x1_batch, x2_batch), axis=1)\n",
        "        t_batch = np.concatenate((t1_batch, t2_batch), axis=1)\n",
        "\n",
        "        # Forward and backward pass for the batch\n",
        "        batch_loss, batch_grad_w = Modified_forward_backward_pass(x_batch, t_batch, W)\n",
        "\n",
        "        # Accumulating loss for the epoch\n",
        "        epoch_loss += batch_loss\n",
        "\n",
        "        # Accumulating gradients for the epoch\n",
        "        total_grad_w += batch_grad_w\n",
        "\n",
        "    # Updating the weights using the accumulated gradients\n",
        "    W -= learning_rate * total_grad_w / len(range(0, len(x1), batch_size))\n",
        "\n",
        "    # Calculating average loss for the epoch\n",
        "    avg_epoch_loss = epoch_loss / len(range(0, len(x1), batch_size))\n",
        "    epoch_losses.append(avg_epoch_loss)\n",
        "\n",
        "# Plotting the loss trend\n",
        "plt.plot(epoch_losses)\n",
        "plt.xlabel('Epochs')\n",
        "plt.ylabel('Average Loss')\n",
        "plt.title('Loss Trend Over Epochs')\n",
        "plt.show()\n"
      ],
      "metadata": {
        "colab": {
          "base_uri": "https://localhost:8080/",
          "height": 472
        },
        "id": "8jkjCkkCXFWk",
        "outputId": "6e196e9e-06e1-4bdf-ce0d-41933be204ac"
      },
      "execution_count": null,
      "outputs": [
        {
          "output_type": "display_data",
          "data": {
            "text/plain": [
              "<Figure size 640x480 with 1 Axes>"
            ],
            "image/png": "[encoded data removed]"
          },
          "metadata": {}
        }
      ]
    },
    {
      "cell_type": "code",
      "source": [
        "X1_test = NNTest_data.iloc[: ,0]\n",
        "X2_test = NNTest_data.iloc[: ,1]\n",
        "T1_test = NNTest_data.iloc[: ,2]\n",
        "T2_test = NNTest_data.iloc[: ,3]"
      ],
      "metadata": {
        "id": "8J0qfwhn7onH"
      },
      "execution_count": null,
      "outputs": []
    },
    {
      "cell_type": "code",
      "source": [
        "# List to store losses\n",
        "all_losses = []\n",
        "# Loop through the test data\n",
        "for i in range(len(X1_test)):\n",
        "    x = np.array([[X1_test[i]], [X2_test[i]]])\n",
        "    t = np.array([[T1_test[i]], [T2_test[i]]])\n",
        "\n",
        "    # Call forward_pass function\n",
        "    losses = forward_pass(x, t, W)\n",
        "    # Append losses to the list\n",
        "    all_losses.append(losses)"
      ],
      "metadata": {
        "id": "DoSSnnRr7Yk9"
      },
      "execution_count": null,
      "outputs": []
    },
    {
      "cell_type": "code",
      "source": [
        "# Plot the losses\n",
        "plt.figure(figsize=(5, 3))\n",
        "plt.plot(range(1, len(all_losses) + 1), all_losses, '-')\n",
        "\n",
        "plt.xlabel('Index')\n",
        "plt.ylabel('Loss')\n",
        "plt.title('After Training')\n",
        "plt.show()"
      ],
      "metadata": {
        "colab": {
          "base_uri": "https://localhost:8080/",
          "height": 333
        },
        "id": "bGN_ltEc-zs3",
        "outputId": "0d9dc3f2-1704-4f4d-cd29-d25069cbeb3b"
      },
      "execution_count": null,
      "outputs": [
        {
          "output_type": "display_data",
          "data": {
            "text/plain": [
              "<Figure size 500x300 with 1 Axes>"
            ],
            "image/png": "[encoded data removed]"
          },
          "metadata": {}
        }
      ]
    },
    {
      "cell_type": "code",
      "source": [
        "# Initializing weights\n",
        "W = np.array([[2], [-3], [-3], [4], [1], [-1], [0.25], [2]])\n",
        "# List to store losses\n",
        "all_losses = []\n",
        "# Loop through the test data\n",
        "for i in range(len(X1_test)):\n",
        "    x = np.array([[X1_test[i]], [X2_test[i]]])\n",
        "    t = np.array([[T1_test[i]], [T2_test[i]]])\n",
        "\n",
        "    # Call forward_pass function\n",
        "    losses = forward_pass(x, t, W)\n",
        "    # Append losses to the list\n",
        "    all_losses.append(losses)"
      ],
      "metadata": {
        "id": "F78vBCTCQEyV"
      },
      "execution_count": null,
      "outputs": []
    },
    {
      "cell_type": "code",
      "source": [
        "# Plot the losses\n",
        "plt.figure(figsize=(5, 3))\n",
        "plt.plot(range(1, len(all_losses) + 1), all_losses, '-')\n",
        "\n",
        "plt.xlabel('Index')\n",
        "plt.ylabel('Loss')\n",
        "plt.title('Before Trainig')\n",
        "plt.show()"
      ],
      "metadata": {
        "colab": {
          "base_uri": "https://localhost:8080/",
          "height": 333
        },
        "outputId": "161cb82f-2ba0-4fe0-d9fa-2f939119b6b0",
        "id": "WFTVGaxCQEyW"
      },
      "execution_count": null,
      "outputs": [
        {
          "output_type": "display_data",
          "data": {
            "text/plain": [
              "<Figure size 500x300 with 1 Axes>"
            ],
            "image/png": "[encoded data removed]"
          },
          "metadata": {}
        }
      ]
    }
  ]
}